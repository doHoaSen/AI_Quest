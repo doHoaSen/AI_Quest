{
 "cells": [
  {
   "cell_type": "code",
   "execution_count": 1,
   "id": "788c59bb",
   "metadata": {},
   "outputs": [
    {
     "data": {
      "text/plain": [
       "'48'"
      ]
     },
     "execution_count": 1,
     "metadata": {},
     "output_type": "execute_result"
    }
   ],
   "source": [
    "#Encode 'H' into Hexadecimal\n",
    "'H'.encode().hex()"
   ]
  },
  {
   "cell_type": "code",
   "execution_count": 3,
   "id": "b15893e3",
   "metadata": {},
   "outputs": [
    {
     "data": {
      "text/plain": [
       "'H'"
      ]
     },
     "execution_count": 3,
     "metadata": {},
     "output_type": "execute_result"
    }
   ],
   "source": [
    "#Characterize hexadecimal 48\n",
    "chr(0x48)"
   ]
  },
  {
   "cell_type": "code",
   "execution_count": 4,
   "id": "f815a369",
   "metadata": {},
   "outputs": [
    {
     "data": {
      "text/plain": [
       "'484f57414c495645'"
      ]
     },
     "execution_count": 4,
     "metadata": {},
     "output_type": "execute_result"
    }
   ],
   "source": [
    "#Encode String HOWALIVE into Hexadecimal\n",
    "'HOWALIVE'.encode().hex()"
   ]
  },
  {
   "cell_type": "code",
   "execution_count": 5,
   "id": "9f179e7a",
   "metadata": {},
   "outputs": [
    {
     "data": {
      "text/plain": [
       "'HOWALIVE'"
      ]
     },
     "execution_count": 5,
     "metadata": {},
     "output_type": "execute_result"
    }
   ],
   "source": [
    "#Characterization 0x48, 4f, 57, 41, 4c, 49, 56, 45\n",
    "chr(0x48) + chr(0x4f) + chr(0x57) + chr(0x41) + chr(0x4c) + chr(0x49) + chr(0x56) + chr(0x45)"
   ]
  },
  {
   "cell_type": "code",
   "execution_count": 6,
   "id": "53aff659",
   "metadata": {},
   "outputs": [],
   "source": [
    "a = -3"
   ]
  },
  {
   "cell_type": "code",
   "execution_count": 7,
   "id": "d25aa28b",
   "metadata": {},
   "outputs": [
    {
     "data": {
      "text/plain": [
       "-3"
      ]
     },
     "execution_count": 7,
     "metadata": {},
     "output_type": "execute_result"
    }
   ],
   "source": [
    "a"
   ]
  },
  {
   "cell_type": "code",
   "execution_count": 8,
   "id": "4de9e5f0",
   "metadata": {},
   "outputs": [],
   "source": [
    "c, B = 100, 0.9"
   ]
  },
  {
   "cell_type": "code",
   "execution_count": 9,
   "id": "1d20a5fa",
   "metadata": {},
   "outputs": [
    {
     "data": {
      "text/plain": [
       "0.9"
      ]
     },
     "execution_count": 9,
     "metadata": {},
     "output_type": "execute_result"
    }
   ],
   "source": [
    "B"
   ]
  },
  {
   "cell_type": "code",
   "execution_count": 10,
   "id": "69835b8a",
   "metadata": {},
   "outputs": [],
   "source": [
    "addaandBandc = a + B + c"
   ]
  },
  {
   "cell_type": "code",
   "execution_count": 11,
   "id": "d24d47c3",
   "metadata": {},
   "outputs": [
    {
     "data": {
      "text/plain": [
       "97.9"
      ]
     },
     "execution_count": 11,
     "metadata": {},
     "output_type": "execute_result"
    }
   ],
   "source": [
    "addaandBandc"
   ]
  },
  {
   "cell_type": "code",
   "execution_count": null,
   "id": "3319953e",
   "metadata": {},
   "outputs": [],
   "source": []
  }
 ],
 "metadata": {
  "kernelspec": {
   "display_name": "Python 3",
   "language": "python",
   "name": "python3"
  },
  "language_info": {
   "codemirror_mode": {
    "name": "ipython",
    "version": 3
   },
   "file_extension": ".py",
   "mimetype": "text/x-python",
   "name": "python",
   "nbconvert_exporter": "python",
   "pygments_lexer": "ipython3",
   "version": "3.8.8"
  }
 },
 "nbformat": 4,
 "nbformat_minor": 5
}

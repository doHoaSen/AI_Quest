{
 "cells": [
  {
   "cell_type": "markdown",
   "id": "1f677652",
   "metadata": {},
   "source": [
    "# Step3. Skill Up\n",
    "\n",
    "#### 코딩 스킬 높이는 모듈을 import 장착하자. 숙련된 스킬은 좋은 모듈, 패키지, 라이브러리를 장착하는 것"
   ]
  },
  {
   "cell_type": "markdown",
   "id": "8c505f3b",
   "metadata": {},
   "source": [
    "#### 3.1."
   ]
  },
  {
   "cell_type": "code",
   "execution_count": 1,
   "id": "10973b4e",
   "metadata": {},
   "outputs": [],
   "source": [
    "import numpy as np\n",
    "\n",
    "Length = 100\n",
    "A_degree = 45"
   ]
  },
  {
   "cell_type": "code",
   "execution_count": 2,
   "id": "c64db6fb",
   "metadata": {},
   "outputs": [
    {
     "data": {
      "text/plain": [
       "0.7853981633974483"
      ]
     },
     "execution_count": 2,
     "metadata": {},
     "output_type": "execute_result"
    }
   ],
   "source": [
    "np.deg2rad(A_degree)"
   ]
  },
  {
   "cell_type": "code",
   "execution_count": 3,
   "id": "4877613e",
   "metadata": {},
   "outputs": [
    {
     "data": {
      "text/plain": [
       "100.00000000000001"
      ]
     },
     "execution_count": 3,
     "metadata": {},
     "output_type": "execute_result"
    }
   ],
   "source": [
    "Length / np.tan(np.deg2rad(A_degree))"
   ]
  },
  {
   "cell_type": "markdown",
   "id": "948fb5e9",
   "metadata": {},
   "source": [
    "#### 3.2.\n",
    "- 리스트를 수학 계산을 위해 배열로 변환하는 것 --> numpy.array()\n",
    "- pylab : matplotlib.pyplot + numpy 가 통합된 그래프 모듈\n",
    "    - interactive environment(shell, ipython ...)에서만 pylab 이용, 컴퓨터 내부 환경에서 실행 시 matplotlib.pyplot 사용"
   ]
  },
  {
   "cell_type": "code",
   "execution_count": 7,
   "id": "07ed9af0",
   "metadata": {},
   "outputs": [],
   "source": [
    "import pylab\n",
    "import numpy as np\n",
    "\n",
    "Length = [100,  200, 300]\n",
    "A_degree = [45, 50, 55]"
   ]
  },
  {
   "cell_type": "code",
   "execution_count": 8,
   "id": "15cb90da",
   "metadata": {},
   "outputs": [],
   "source": [
    "distance = Length / np.tan(np.deg2rad(A_degree))"
   ]
  },
  {
   "cell_type": "code",
   "execution_count": 9,
   "id": "ef294d3e",
   "metadata": {},
   "outputs": [
    {
     "data": {
      "text/plain": [
       "[<matplotlib.lines.Line2D at 0x24bbf814040>]"
      ]
     },
     "execution_count": 9,
     "metadata": {},
     "output_type": "execute_result"
    },
    {
     "data": {
      "image/png": "[encoded data removed]",
      "text/plain": [
       "<Figure size 432x288 with 1 Axes>"
      ]
     },
     "metadata": {
      "needs_background": "light"
     },
     "output_type": "display_data"
    }
   ],
   "source": [
    "pylab.plot(Length, distance, marker='o')"
   ]
  },
  {
   "cell_type": "code",
   "execution_count": 10,
   "id": "a0aec649",
   "metadata": {},
   "outputs": [
    {
     "data": {
      "text/plain": [
       "array([100.        , 167.81992624, 210.06226146])"
      ]
     },
     "execution_count": 10,
     "metadata": {},
     "output_type": "execute_result"
    }
   ],
   "source": [
    "np.array(distance)"
   ]
  },
  {
   "cell_type": "code",
   "execution_count": 11,
   "id": "59fa326d",
   "metadata": {},
   "outputs": [
    {
     "data": {
      "text/plain": [
       "array([1.        , 1.19175359, 1.42814801])"
      ]
     },
     "execution_count": 11,
     "metadata": {},
     "output_type": "execute_result"
    }
   ],
   "source": [
    "np.array(Length / np.array(distance))"
   ]
  },
  {
   "cell_type": "markdown",
   "id": "5667caf6",
   "metadata": {},
   "source": [
    "#### 3.3."
   ]
  },
  {
   "cell_type": "code",
   "execution_count": 16,
   "id": "5aa205b9",
   "metadata": {},
   "outputs": [],
   "source": [
    "def bomb_drop(x0, y0, speed):\n",
    "    import numpy as np\n",
    "    import pylab\n",
    "    \n",
    "    drop_time = np.sqrt(y0 / 5)\n",
    "    time = np.linspace(0, drop_time)\n",
    "    Length = x0 + speed * time\n",
    "    distance = y0 - 5 * time ** 2\n",
    "    \n",
    "    pylab.plot(Length, distance, marker = 'o')\n",
    "    \n",
    "    return Length[-1], distance, drop_time"
   ]
  },
  {
   "cell_type": "code",
   "execution_count": 17,
   "id": "fb1adb70",
   "metadata": {},
   "outputs": [
    {
     "data": {
      "text/plain": [
       "(2.5,\n",
       " array([500.        , 499.79175344, 499.16701374, 498.12578092,\n",
       "        496.66805498, 494.7938359 , 492.5031237 , 489.79591837,\n",
       "        486.67221991, 483.13202832, 479.17534361, 474.80216576,\n",
       "        470.01249479, 464.8063307 , 459.18367347, 453.14452312,\n",
       "        446.68887963, 439.81674302, 432.52811329, 424.82299042,\n",
       "        416.70137443, 408.16326531, 399.20866306, 389.83756768,\n",
       "        380.04997918, 369.84589754, 359.22532278, 348.18825489,\n",
       "        336.73469388, 324.86463973, 312.57809246, 299.87505206,\n",
       "        286.75551853, 273.21949188, 259.26697209, 244.89795918,\n",
       "        230.11245314, 214.91045398, 199.29196168, 183.25697626,\n",
       "        166.80549771, 149.93752603, 132.65306122, 114.95210329,\n",
       "         96.83465223,  78.30070804,  59.35027072,  39.98334027,\n",
       "         20.1999167 ,   0.        ]),\n",
       " 10.0)"
      ]
     },
     "execution_count": 17,
     "metadata": {},
     "output_type": "execute_result"
    },
    {
     "data": {
      "image/png": "[encoded data removed]",
      "text/plain": [
       "<Figure size 432x288 with 1 Axes>"
      ]
     },
     "metadata": {
      "needs_background": "light"
     },
     "output_type": "display_data"
    }
   ],
   "source": [
    "bomb_drop(0, 500, 900/3600)"
   ]
  },
  {
   "cell_type": "code",
   "execution_count": null,
   "id": "543741e1",
   "metadata": {},
   "outputs": [],
   "source": []
  }
 ],
 "metadata": {
  "kernelspec": {
   "display_name": "Python 3",
   "language": "python",
   "name": "python3"
  },
  "language_info": {
   "codemirror_mode": {
    "name": "ipython",
    "version": 3
   },
   "file_extension": ".py",
   "mimetype": "text/x-python",
   "name": "python",
   "nbconvert_exporter": "python",
   "pygments_lexer": "ipython3",
   "version": "3.8.8"
  }
 },
 "nbformat": 4,
 "nbformat_minor": 5
}

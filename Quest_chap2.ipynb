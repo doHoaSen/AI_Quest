{
 "cells": [
  {
   "cell_type": "markdown",
   "id": "22a96c43",
   "metadata": {},
   "source": [
    "## Step 2"
   ]
  },
  {
   "cell_type": "markdown",
   "id": "3fff0c25",
   "metadata": {},
   "source": [
    "### 2.1.\n",
    "\n",
    "- one-character string into Unicode code point : __ord()__\n",
    "- Unicode code point into one-character string : __chr()__"
   ]
  },
  {
   "cell_type": "code",
   "execution_count": 1,
   "id": "70e5a8c9",
   "metadata": {},
   "outputs": [
    {
     "name": "stdout",
     "output_type": "stream",
     "text": [
      "44032\n",
      "가\n"
     ]
    }
   ],
   "source": [
    "# 1) 한글 '가'를 10진수 코드값으로 변환\n",
    "#    10진수 44032를 문자로 변환\n",
    "print(ord('가'))\n",
    "print(chr(44032))"
   ]
  },
  {
   "cell_type": "code",
   "execution_count": 2,
   "id": "10cdb7cf",
   "metadata": {},
   "outputs": [
    {
     "name": "stdout",
     "output_type": "stream",
     "text": [
      "0xac00\n",
      "가\n"
     ]
    }
   ],
   "source": [
    "# 2) 한글 '가'를 16진수 코드값으로 변환\n",
    "#    16진수 0xac00을 문자로 변환\n",
    "print(hex(ord('가')))\n",
    "print(chr(0xac00))"
   ]
  },
  {
   "cell_type": "code",
   "execution_count": 3,
   "id": "b5d5a121",
   "metadata": {},
   "outputs": [
    {
     "name": "stdout",
     "output_type": "stream",
     "text": [
      "0b1010110000000000\n",
      "가\n"
     ]
    }
   ],
   "source": [
    "# 3) 한글 '가'를 2진수 코드값으로 변환\n",
    "#    2진수를 문자로 변환하기\n",
    "print(bin(ord('가')))\n",
    "print(chr(0b1010110000000000))"
   ]
  },
  {
   "cell_type": "markdown",
   "id": "7cb46ba7",
   "metadata": {},
   "source": [
    "### 2.2."
   ]
  },
  {
   "cell_type": "code",
   "execution_count": 5,
   "id": "fe63e42a",
   "metadata": {},
   "outputs": [
    {
     "name": "stdout",
     "output_type": "stream",
     "text": [
      "이름을 알려줘: 수연\n",
      "수연 반가워, 나는 월-E야\n"
     ]
    }
   ],
   "source": [
    "#1\n",
    "name = input(\"이름을 알려줘: \")\n",
    "print(name, \"반가워, 나는 월-E야\")"
   ]
  },
  {
   "cell_type": "markdown",
   "id": "987456f2",
   "metadata": {},
   "source": [
    "### 2.3."
   ]
  },
  {
   "cell_type": "code",
   "execution_count": 1,
   "id": "4fa31df1",
   "metadata": {},
   "outputs": [],
   "source": [
    "# 1)\n",
    "student = ['락현', 13, 'WallE', 100]"
   ]
  },
  {
   "cell_type": "code",
   "execution_count": 2,
   "id": "f5c51557",
   "metadata": {},
   "outputs": [
    {
     "data": {
      "text/plain": [
       "'락현'"
      ]
     },
     "execution_count": 2,
     "metadata": {},
     "output_type": "execute_result"
    }
   ],
   "source": [
    "student[0]"
   ]
  },
  {
   "cell_type": "code",
   "execution_count": 3,
   "id": "a227774c",
   "metadata": {},
   "outputs": [
    {
     "name": "stdout",
     "output_type": "stream",
     "text": [
      "락현 13 살! 나는 100 살이야\n"
     ]
    }
   ],
   "source": [
    "print(student[0], student[1], '살! 나는', student[3], '살이야')"
   ]
  },
  {
   "cell_type": "markdown",
   "id": "4dae9f60",
   "metadata": {},
   "source": [
    "### 2.4. 알고리즘 흐름도\n",
    "\n",
    "- Algorithms : 단계적으로 수행되는 여러 작업들의 모음\n",
    "- Input, Output\n",
    "\n",
    "==> 응용흐름 (application flow) 혹은 시각화된 '알고리즘 흐름도'"
   ]
  },
  {
   "cell_type": "code",
   "execution_count": 4,
   "id": "4a60f0cc",
   "metadata": {},
   "outputs": [],
   "source": [
    "artbox = [127827, 127828, 128025, 44032, 44033, 55203]"
   ]
  },
  {
   "cell_type": "code",
   "execution_count": 5,
   "id": "cbbc4bbc",
   "metadata": {},
   "outputs": [
    {
     "data": {
      "text/plain": [
       "'가'"
      ]
     },
     "execution_count": 5,
     "metadata": {},
     "output_type": "execute_result"
    }
   ],
   "source": [
    "chr(artbox[3])"
   ]
  },
  {
   "cell_type": "code",
   "execution_count": 6,
   "id": "5c375bb7",
   "metadata": {},
   "outputs": [
    {
     "name": "stdout",
     "output_type": "stream",
     "text": [
      "countdown 1 🍔\n",
      "countdown 2 🐙\n",
      "countdown 3 가\n",
      "countdown 4 각\n",
      "countdown 5 힣\n"
     ]
    }
   ],
   "source": [
    "for i in [1, 2, 3, 4, 5]:\n",
    "    print('countdown', i, chr(artbox[i]))"
   ]
  },
  {
   "cell_type": "markdown",
   "id": "bc20b2fa",
   "metadata": {},
   "source": [
    "### 2.5."
   ]
  },
  {
   "cell_type": "code",
   "execution_count": 8,
   "id": "4a08bdac",
   "metadata": {},
   "outputs": [],
   "source": [
    "menu = {'문어': '🐙', '햄버거': '🍔', '딸기': '🍓'}"
   ]
  },
  {
   "cell_type": "code",
   "execution_count": 9,
   "id": "52677d65",
   "metadata": {},
   "outputs": [
    {
     "name": "stdout",
     "output_type": "stream",
     "text": [
      "햄버거, 문어, 딸기 중 하나를 골라주세요: 문어\n"
     ]
    }
   ],
   "source": [
    "select = input(\"햄버거, 문어, 딸기 중 하나를 골라주세요: \")"
   ]
  },
  {
   "cell_type": "code",
   "execution_count": 10,
   "id": "2f46e33f",
   "metadata": {},
   "outputs": [
    {
     "name": "stdout",
     "output_type": "stream",
     "text": [
      "🐙 맛없어요. 먹지 마세요.\n"
     ]
    }
   ],
   "source": [
    "if select == '딸기':\n",
    "    print(menu['딸기'], '살 안찌니까 먹어도 돼')\n",
    "elif select == '햄버거':\n",
    "    print(menu['햄버거'], '지방이 많아 살이 쪄요.')\n",
    "elif select == '문어':\n",
    "    print(menu['문어'], '맛없어요. 먹지 마세요.')\n",
    "else:\n",
    "    print(\"wrong selection\")"
   ]
  },
  {
   "cell_type": "markdown",
   "id": "a36555b8",
   "metadata": {},
   "source": [
    "### 2.6."
   ]
  },
  {
   "cell_type": "code",
   "execution_count": 10,
   "id": "1865218e",
   "metadata": {},
   "outputs": [],
   "source": [
    "artbox = [128163, 51088, 44032, 128025, 127828, 127827]"
   ]
  },
  {
   "cell_type": "code",
   "execution_count": 11,
   "id": "ba9a687d",
   "metadata": {},
   "outputs": [
    {
     "name": "stdout",
     "output_type": "stream",
     "text": [
      "countdown 5 🍓\n",
      "countdown 4 🍔\n",
      "countdown 3 🐙\n",
      "countdown 2 가\n",
      "countdown 1 자\n",
      "💣 Throw it\n"
     ]
    }
   ],
   "source": [
    "for i in range(5, -1, -1):\n",
    "    if i != 0:\n",
    "        print('countdown', i, chr(artbox[i]))\n",
    "    else:\n",
    "        print(chr(artbox[i]), 'Throw it')"
   ]
  },
  {
   "cell_type": "code",
   "execution_count": 12,
   "id": "572f99c9",
   "metadata": {},
   "outputs": [
    {
     "data": {
      "text/plain": [
       "[5, 4, 3, 2, 1, 0]"
      ]
     },
     "execution_count": 12,
     "metadata": {},
     "output_type": "execute_result"
    }
   ],
   "source": [
    "list(range(5, -1, -1))"
   ]
  },
  {
   "cell_type": "markdown",
   "id": "7dab5100",
   "metadata": {},
   "source": [
    "### 2.7. "
   ]
  },
  {
   "cell_type": "code",
   "execution_count": 17,
   "id": "1a3fb7cd",
   "metadata": {},
   "outputs": [
    {
     "name": "stdout",
     "output_type": "stream",
     "text": [
      "키를 입력하세요: 158\n",
      "몸무게를 입력하세요: 54\n",
      "당신의 비만 BMI는 21.63114885435026 정상입니다.\n"
     ]
    }
   ],
   "source": [
    "def check_bmi(h, w):\n",
    "    bmi = w/(h/100)**2\n",
    "    if bmi > 18.5 and bmi < 25:\n",
    "        print('당신의 비만 BMI는', bmi, '정상입니다.')\n",
    "    elif bmi >= 25:\n",
    "        print('당신의 비만 BMI는', bmi, '과체중입니다.')\n",
    "    else:\n",
    "        print('당신의 비만 BMI는', bmi, '너무 말랐어요.')\n",
    "        \n",
    "        \n",
    "height = float(input(\"키를 입력하세요: \"))\n",
    "weight = float(input(\"몸무게를 입력하세요: \"))\n",
    "\n",
    "check_bmi(height, weight)"
   ]
  },
  {
   "cell_type": "markdown",
   "id": "c63fcad9",
   "metadata": {},
   "source": [
    "### 2.8."
   ]
  },
  {
   "cell_type": "code",
   "execution_count": 24,
   "id": "f7277511",
   "metadata": {},
   "outputs": [],
   "source": [
    "def check_covid():\n",
    "    symptoms = ['열', '기침', '숨 가쁨', '목/코 아픔', '구토', '당뇨/신장/심장병']\n",
    "    risk_lv = []\n",
    "    for i in range(len(symptoms)):\n",
    "        print(\"증상이 있으면 1, 없으면 0으로 답해요: \")\n",
    "        risk_lv.append(int(input(symptoms[i])))\n",
    "        total = sum(risk_lv)\n",
    "    \n",
    "    if total < 4:\n",
    "        print(\"COVID 19 위험도:\", total, '\\n위험도가 높지 않아 독감일 수 있음')\n",
    "    else:\n",
    "        print(\"COVID 19 위험도: \", total, \"\\n위험도가 높아 감염의 위험이 있음\")"
   ]
  },
  {
   "cell_type": "code",
   "execution_count": 25,
   "id": "294e3685",
   "metadata": {},
   "outputs": [
    {
     "name": "stdout",
     "output_type": "stream",
     "text": [
      "증상이 있으면 1, 없으면 0으로 답해요: \n",
      "열1\n",
      "증상이 있으면 1, 없으면 0으로 답해요: \n",
      "기침1\n",
      "증상이 있으면 1, 없으면 0으로 답해요: \n",
      "숨 가쁨0\n",
      "증상이 있으면 1, 없으면 0으로 답해요: \n",
      "목/코 아픔1\n",
      "증상이 있으면 1, 없으면 0으로 답해요: \n",
      "구토0\n",
      "증상이 있으면 1, 없으면 0으로 답해요: \n",
      "당뇨/신장/심장병0\n",
      "COVID 19 위험도: 3 \n",
      "위험도가 높지 않아 독감일 수 있음\n"
     ]
    }
   ],
   "source": [
    "check_covid()"
   ]
  },
  {
   "cell_type": "markdown",
   "id": "a00d4505",
   "metadata": {},
   "source": [
    "### 2.9."
   ]
  },
  {
   "cell_type": "code",
   "execution_count": 26,
   "id": "f6823e14",
   "metadata": {},
   "outputs": [],
   "source": [
    "base_var, height_var = 5.3, 6"
   ]
  },
  {
   "cell_type": "code",
   "execution_count": 27,
   "id": "34c0417c",
   "metadata": {},
   "outputs": [],
   "source": [
    "area_var = base_var * height_var"
   ]
  },
  {
   "cell_type": "code",
   "execution_count": 28,
   "id": "22295669",
   "metadata": {},
   "outputs": [
    {
     "data": {
      "text/plain": [
       "31.799999999999997"
      ]
     },
     "execution_count": 28,
     "metadata": {},
     "output_type": "execute_result"
    }
   ],
   "source": [
    "area_var"
   ]
  },
  {
   "cell_type": "code",
   "execution_count": 29,
   "id": "8b39727e",
   "metadata": {},
   "outputs": [
    {
     "data": {
      "text/plain": [
       "31.8"
      ]
     },
     "execution_count": 29,
     "metadata": {},
     "output_type": "execute_result"
    }
   ],
   "source": [
    "round(area_var, 2)"
   ]
  },
  {
   "cell_type": "code",
   "execution_count": null,
   "id": "a0a3e7a9",
   "metadata": {},
   "outputs": [],
   "source": []
  }
 ],
 "metadata": {
  "kernelspec": {
   "display_name": "Python 3",
   "language": "python",
   "name": "python3"
  },
  "language_info": {
   "codemirror_mode": {
    "name": "ipython",
    "version": 3
   },
   "file_extension": ".py",
   "mimetype": "text/x-python",
   "name": "python",
   "nbconvert_exporter": "python",
   "pygments_lexer": "ipython3",
   "version": "3.8.8"
  }
 },
 "nbformat": 4,
 "nbformat_minor": 5
}

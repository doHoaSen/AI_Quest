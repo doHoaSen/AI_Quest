{
 "cells": [
  {
   "cell_type": "markdown",
   "id": "9142119f",
   "metadata": {},
   "source": [
    "## Linear fitting\n",
    "- 수많은 데이터가 일정한 규칙성이 있는지 알기 위해 이 데이터를 분석해 가장 잘 맞는 규칙인 공식을 찾는 것\n",
    "    - 혹은 이를 가장 잘 표현하는 직선 (best fit)을 찾는 것\n",
    "- y = mx + b의 m과 b를 자동으로 구해주는 수학 라이브러리 --> numpy의 polyfit\n",
    "\n",
    "- polyfit() : 입력과 출력 값으로부터 다항식의 계수를 찾아주는 함수"
   ]
  },
  {
   "cell_type": "markdown",
   "id": "44a8cbeb",
   "metadata": {},
   "source": [
    "#### 4.1."
   ]
  },
  {
   "cell_type": "code",
   "execution_count": 1,
   "id": "71a61e49",
   "metadata": {},
   "outputs": [],
   "source": [
    "import pylab\n",
    "import numpy as np"
   ]
  },
  {
   "cell_type": "code",
   "execution_count": 2,
   "id": "b3232323",
   "metadata": {},
   "outputs": [],
   "source": [
    "x = [1, 2, 3, 4, 5]\n",
    "y = [3, 7, 6, 11, 14]"
   ]
  },
  {
   "cell_type": "code",
   "execution_count": 3,
   "id": "c58590ae",
   "metadata": {},
   "outputs": [],
   "source": [
    "m, b = np.polyfit(x, y, 1)"
   ]
  },
  {
   "cell_type": "code",
   "execution_count": 4,
   "id": "230edf33",
   "metadata": {},
   "outputs": [],
   "source": [
    "def f(x): return x*m + b"
   ]
  },
  {
   "cell_type": "code",
   "execution_count": 5,
   "id": "6c1511f0",
   "metadata": {},
   "outputs": [
    {
     "data": {
      "text/plain": [
       "[<matplotlib.lines.Line2D at 0x24a0a006c40>]"
      ]
     },
     "execution_count": 5,
     "metadata": {},
     "output_type": "execute_result"
    },
    {
     "data": {
      "image/png": "[encoded data removed]",
      "text/plain": [
       "<Figure size 432x288 with 1 Axes>"
      ]
     },
     "metadata": {
      "needs_background": "light"
     },
     "output_type": "display_data"
    }
   ],
   "source": [
    "pylab.plot(x, y, 'o')\n",
    "\n",
    "List = np.linspace(0, 6)\n",
    "pylab.plot(List, f(List))"
   ]
  },
  {
   "cell_type": "markdown",
   "id": "477c8213",
   "metadata": {},
   "source": [
    "### np.linspace란?\n",
    "__numpy.linspace(start, stop, num=50, endpoint=True, retstep=False, dtype=None, axis=0)__\n",
    "\n",
    "- Return evenly spaced numbers over a specified interval.\n",
    "\n",
    "- eturns num evenly spaced samples, calculated over the interval `[start, stop]`.\n",
    "\n",
    "- The endpoint of the interval can optionally be excluded.\n",
    "\n",
    "- more info: [Numpy](https://numpy.org/doc/stable/reference/generated/numpy.linspace.html)"
   ]
  },
  {
   "cell_type": "code",
   "execution_count": null,
   "id": "40b5cf95",
   "metadata": {},
   "outputs": [],
   "source": []
  }
 ],
 "metadata": {
  "kernelspec": {
   "display_name": "Python 3",
   "language": "python",
   "name": "python3"
  },
  "language_info": {
   "codemirror_mode": {
    "name": "ipython",
    "version": 3
   },
   "file_extension": ".py",
   "mimetype": "text/x-python",
   "name": "python",
   "nbconvert_exporter": "python",
   "pygments_lexer": "ipython3",
   "version": "3.8.8"
  }
 },
 "nbformat": 4,
 "nbformat_minor": 5
}
